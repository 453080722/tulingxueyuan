{
 "cells": [
  {
   "cell_type": "markdown",
   "metadata": {},
   "source": [
    "# 编码问题\n",
    "- 为什么需要编码问题\n",
    "    - 本质上计算机只能识别01代码\n",
    "    - 如何用一长串01代码表示复杂的信息 e.g.摩尔斯电码\n",
    "- 编码简史\n",
    "    - 二进制\n",
    "        - bit: 一个0或者1的二进制数字，位\n",
    "        - byte: 八个01代码，字节\n",
    "    - 第一阶段：ASCII\n",
    "    - 第二阶段：百花齐放，GB2312,GBK,BIG5,Latin1,JIS\n",
    "        - Latin1:兼容欧洲大多数语言\n",
    "        - 中国：GBxxxx\n",
    "        - 韩国台湾：BIG5\n",
    "        - 日本：JIS\n",
    "        - ANSO-MBCS(Multi-bytes character set,多字节字符集)\n",
    "    - 第三阶段：Unicode(ISO)"
   ]
  },
  {
   "cell_type": "markdown",
   "metadata": {},
   "source": [
    "# 编码表示方法\n",
    "- ASCII-american standard code for information interchange\n",
    "    - 所有的控制字符(包括回车，删除等）编码在0-31范围以及127\n",
    "    - 所有标点符号，英文大小写放在32-126之间\n",
    "    - 预留128-255之间位置\n",
    "    - 0xxx xxxx 是它的编码形式\n",
    "- Latin1\n",
    "    - 0-127的所有位置不动，那么可以兼容ASCII，二进制位1xxx xxxx\n",
    "        - 128-159之间为控制字符\n",
    "        - 160-255位文字符号\n",
    "        - 其中包括了西欧语言、希腊语、泰语、阿拉伯语、希伯来语\n",
    "    - 欧元符号(是在Latin1之后产生的)\n",
    "- GBxxxxxxx\n",
    "    - GB2312\n",
    "        - 如果一个字节中第一位为0，那么这就是一个ASCII字符。\n",
    "        - 如果一个字节中第一位为1，那么这个是汉字，认定需要2个字节才表示一个编码的文字\n",
    "        - 这个码表中包含汉字6763个和非汉字图形字符682个。\n",
    "        - 0xxx xxxx：表示为ASCII字符\n",
    "        - 1xxx xxxx 1xxx xxxx：表示为汉字\n",
    "    - GBK\n",
    "        - 在GB2312基础上添加汉字\n",
    "        - 兼任GB2312和ASCII\n",
    "        - 0xxx xxxx：表示为ASCII字符\n",
    "        - 1xxx xxxx xxxx xxxx：表示为汉字\n",
    "    - GB18030\n",
    "        - 2/4位混编"
   ]
  },
  {
   "cell_type": "markdown",
   "metadata": {},
   "source": [
    "# Unicode编码\n",
    "    - 只是一个码表，具体实现没有规定\n",
    "    - 0-0x10FFFF来映射这些字符，最多可以容纳1114112个字符\n",
    "    - 中文的编码范围为4E00-9FCF，其中9FC4-9FCF之间的区间没有使用\n",
    "    - 上述区间全部是汉字，不包含全角字符，不包含特殊文字\n",
    "    - UTF=UnicodeTransformationFormat\n",
    "    - UTF-8\n",
    "        \n",
    "        0x0000~0x007F(0~127)   1字节    0xxxxxxx\n",
    "        0x0080~0x07FF(128~2047)  110xxxxx  10xxxxxx\n",
    "        ......百度吧\n",
    "        \n",
    "    - UTF-16,UTF-32\n",
    "        -UTF-16 早期 Unicode历史遗留问题\n",
    "        -UTF-32 浪费空间\n",
    "        \n",
    "- UCS-2\n",
    "    - UCS=UniversalCharacterSet,通用字符集\n",
    "    - UCS-2与UniCode相同\n",
    "    - 采用2个字节，定长的表示每一个字符，所以总计可以表示2^16个字符\n",
    "- UCS-4\n",
    "    - 第一个字节：表示组\n",
    "    - 第二个字节：表示面\n",
    "    - 第三个字节：表示行\n",
    "    - 第四个字节：表示码位\n",
    "    - 如果UCS-4前两个字节为0，则就是UCS-2"
   ]
  },
  {
   "cell_type": "markdown",
   "metadata": {
    "collapsed": true
   },
   "source": [
    "# 常用概念\n",
    "    - 编码/解码： 由人类直接读取信息转换成bytes格式的，叫编码\n",
    "    - 大尾(BigEndian)和小伟(LittleEndian)\n",
    "        -'汉' -> 6C49\n",
    "        - 6C49 -> BigEndian\n",
    "        - 496C -> LittleEndian\n",
    "        \n",
    "    - BOM\n",
    "        - UTF-8没有字节顺序问题\n",
    "        - UTF-16会出现问题\n",
    "            - \"奎\" -> 594E\n",
    "            - \"乙\" -> 4E59\n",
    "        - BOM-ByteOrderMark\n",
    "            - \"ZERO WIDTH NO-BREAK SPACE\" -> FEFF,在UCS中不存在\n",
    "            - FEFF -> BigEndian\n",
    "            - FFFE -> LittleEndian\n",
    "            - UTF-8 用来表示编码， FEFF的UTF-8编码是EF BB BF,用来表示\n",
    "            此后编码是UTF-8编码"
   ]
  },
  {
   "cell_type": "markdown",
   "metadata": {},
   "source": [
    "# Python编码问题\n",
    "- str\n",
    "- bytes\n",
    "- bytearray"
   ]
  },
  {
   "cell_type": "code",
   "execution_count": 5,
   "metadata": {},
   "outputs": [
    {
     "name": "stdout",
     "output_type": "stream",
     "text": [
      "b'\\xe4\\xb8\\xad'\n",
      "中\n",
      "b'\\xe4\\xb8\\xad'\n"
     ]
    }
   ],
   "source": [
    "b = bytes.fromhex('E4 B8 AD')\n",
    "print(b)\n",
    "print(b.decode('utf-8'))\n",
    "print(str(b))"
   ]
  },
  {
   "cell_type": "code",
   "execution_count": 6,
   "metadata": {},
   "outputs": [
    {
     "name": "stdout",
     "output_type": "stream",
     "text": [
      "65\n",
      "20013\n",
      "A\n",
      "中\n"
     ]
    }
   ],
   "source": [
    "print(ord('A'))\n",
    "print(ord('中'))\n",
    "print(chr(65))\n",
    "print(chr(20013))"
   ]
  },
  {
   "cell_type": "markdown",
   "metadata": {},
   "source": [
    "- python文件默认utf-8编码，如果特殊需要，需要申明\n",
    "    - 放在第一行，或者第二行\n",
    "    - '''#-*- coding:wubdiws-1252 -*-'''\n",
    "    - 读写模式默认utf-8，可以指定\n",
    "    - code point方式比较字符串，可能会带来问题\n",
    "        - 重音符号的表示\n",
    "        - 使用 unicodedata.normalize 函数\n",
    "- Python源码中出现了解码错误，那么会产生SyntaxError异常\n",
    "- 其他情况下，如果发现编解码错误，那么会产生UnicodeEncodeError，UnicodeDecodeError异常"
   ]
  },
  {
   "cell_type": "code",
   "execution_count": null,
   "metadata": {
    "collapsed": true
   },
   "outputs": [],
   "source": []
  },
  {
   "cell_type": "code",
   "execution_count": null,
   "metadata": {
    "collapsed": true
   },
   "outputs": [],
   "source": []
  },
  {
   "cell_type": "code",
   "execution_count": null,
   "metadata": {
    "collapsed": true
   },
   "outputs": [],
   "source": []
  }
 ],
 "metadata": {
  "kernelspec": {
   "display_name": "Python 3",
   "language": "python",
   "name": "python3"
  },
  "language_info": {
   "codemirror_mode": {
    "name": "ipython",
    "version": 3
   },
   "file_extension": ".py",
   "mimetype": "text/x-python",
   "name": "python",
   "nbconvert_exporter": "python",
   "pygments_lexer": "ipython3",
   "version": "3.6.3"
  }
 },
 "nbformat": 4,
 "nbformat_minor": 2
}
