{
 "cells": [
  {
   "cell_type": "code",
   "execution_count": 1,
   "metadata": {},
   "outputs": [
    {
     "name": "stdout",
     "output_type": "stream",
     "text": [
      "5\n",
      "4\n",
      "3\n",
      "2\n",
      "1\n",
      "0\n",
      "====================\n",
      "0\n",
      "1\n",
      "2\n",
      "3\n",
      "4\n",
      "5\n"
     ]
    }
   ],
   "source": [
    "# 类似与栈的先进后出模式\n",
    "# 1.要有递推关系\n",
    "# 2.要有临界\n",
    "def digui(num):\n",
    "    print(num)\n",
    "    # 临界值\n",
    "    if num > 0:\n",
    "        digui(num-1)\n",
    "    else:\n",
    "        print('=' * 20)\n",
    "    print(num)\n",
    "    \n",
    "digui(5)"
   ]
  },
  {
   "cell_type": "code",
   "execution_count": 3,
   "metadata": {},
   "outputs": [
    {
     "name": "stdout",
     "output_type": "stream",
     "text": [
      "1\n"
     ]
    }
   ],
   "source": [
    "i = 0\n",
    "def a():\n",
    "    # 必须要申明全局变量\n",
    "    global i\n",
    "    i += 1\n",
    "    print(i)\n",
    "    \n",
    "a()"
   ]
  },
  {
   "cell_type": "code",
   "execution_count": 6,
   "metadata": {},
   "outputs": [
    {
     "name": "stdout",
     "output_type": "stream",
     "text": [
      "移动第1次,A-->B\n",
      "移动第2次,A-->C\n",
      "移动第3次,B-->C\n",
      "移动第4次,A-->B\n",
      "移动第5次,C-->A\n",
      "移动第6次,C-->B\n",
      "移动第7次,A-->B\n",
      "移动第8次,A-->C\n",
      "移动第9次,B-->C\n",
      "移动第10次,B-->A\n",
      "移动第11次,C-->A\n",
      "移动第12次,B-->C\n",
      "移动第13次,A-->B\n",
      "移动第14次,A-->C\n",
      "移动第15次,B-->C\n"
     ]
    }
   ],
   "source": [
    "#　汉诺塔问题\n",
    "i = 0\n",
    "def hanoi(n,a,b,c):\n",
    "    global i\n",
    "    if n == 1:\n",
    "        i += 1\n",
    "        print('移动第{0}次,{1}-->{2}'.format(i,a,c))\n",
    "    else:\n",
    "        hanoi(n-1,a,c,b)\n",
    "        hanoi(1,a,b,c)\n",
    "        hanoi(n-1,b,a,c)\n",
    "        \n",
    "hanoi(4,'A','B','C')"
   ]
  },
  {
   "cell_type": "code",
   "execution_count": 11,
   "metadata": {},
   "outputs": [
    {
     "ename": "NotADirectoryError",
     "evalue": "[Errno 20] Not a directory: '//home//tlxy//tulingxueyuan//test.ipynb'",
     "output_type": "error",
     "traceback": [
      "\u001b[0;31m---------------------------------------------------------------------------\u001b[0m",
      "\u001b[0;31mNotADirectoryError\u001b[0m                        Traceback (most recent call last)",
      "\u001b[0;32m<ipython-input-11-59a8b7f23fc6>\u001b[0m in \u001b[0;36m<module>\u001b[0;34m()\u001b[0m\n\u001b[1;32m     17\u001b[0m     \u001b[0;32mreturn\u001b[0m \u001b[0mtotal\u001b[0m\u001b[0;34m\u001b[0m\u001b[0m\n\u001b[1;32m     18\u001b[0m \u001b[0;34m\u001b[0m\u001b[0m\n\u001b[0;32m---> 19\u001b[0;31m \u001b[0msize\u001b[0m \u001b[0;34m=\u001b[0m \u001b[0mgetdirpath\u001b[0m\u001b[0;34m(\u001b[0m\u001b[0;34m'//home//tlxy//tulingxueyuan//test.ipynb'\u001b[0m\u001b[0;34m)\u001b[0m\u001b[0;34m\u001b[0m\u001b[0m\n\u001b[0m\u001b[1;32m     20\u001b[0m \u001b[0mprint\u001b[0m\u001b[0;34m(\u001b[0m\u001b[0msize\u001b[0m\u001b[0;34m)\u001b[0m\u001b[0;34m\u001b[0m\u001b[0m\n",
      "\u001b[0;32m<ipython-input-11-59a8b7f23fc6>\u001b[0m in \u001b[0;36mgetdirpath\u001b[0;34m(dirpath)\u001b[0m\n\u001b[1;32m      3\u001b[0m     \u001b[0mtotal\u001b[0m \u001b[0;34m=\u001b[0m \u001b[0;36m0\u001b[0m\u001b[0;34m\u001b[0m\u001b[0m\n\u001b[1;32m      4\u001b[0m     \u001b[0;31m# 获取所有文件\u001b[0m\u001b[0;34m\u001b[0m\u001b[0;34m\u001b[0m\u001b[0m\n\u001b[0;32m----> 5\u001b[0;31m     \u001b[0mallname\u001b[0m \u001b[0;34m=\u001b[0m \u001b[0mos\u001b[0m\u001b[0;34m.\u001b[0m\u001b[0mlistdir\u001b[0m\u001b[0;34m(\u001b[0m\u001b[0mdirpath\u001b[0m\u001b[0;34m)\u001b[0m\u001b[0;34m\u001b[0m\u001b[0m\n\u001b[0m\u001b[1;32m      6\u001b[0m     \u001b[0;32mfor\u001b[0m \u001b[0mname\u001b[0m \u001b[0;32min\u001b[0m \u001b[0mallname\u001b[0m\u001b[0;34m:\u001b[0m\u001b[0;34m\u001b[0m\u001b[0m\n\u001b[1;32m      7\u001b[0m         \u001b[0;31m# 拼接成完整路径\u001b[0m\u001b[0;34m\u001b[0m\u001b[0;34m\u001b[0m\u001b[0m\n",
      "\u001b[0;31mNotADirectoryError\u001b[0m: [Errno 20] Not a directory: '//home//tlxy//tulingxueyuan//test.ipynb'"
     ]
    }
   ],
   "source": [
    "import os\n",
    "def getdirpath(dirpath):\n",
    "    total = 0\n",
    "    # 获取所有文件\n",
    "    allname = os.listdir(dirpath)\n",
    "    for name in allname:\n",
    "        # 拼接成完整路径\n",
    "        fullname = os.path.join(dirpath,name)\n",
    "        # 判断是否为文件\n",
    "        if os.path.isfile(fullpath):\n",
    "            # 获取文件大小\n",
    "            total += os.path.getsize(fullpath)\n",
    "        # 判断是否为文件夹(目录)\n",
    "        elif os.path.isdir(fullpath):\n",
    "            total += getdirpath(fullpath)\n",
    "    # 返回大小\n",
    "    return total\n",
    "\n",
    "size = getdirpath('//home//tlxy//tulingxueyuan//test.ipynb')\n",
    "print(size)"
   ]
  },
  {
   "cell_type": "code",
   "execution_count": null,
   "metadata": {
    "collapsed": true
   },
   "outputs": [],
   "source": []
  }
 ],
 "metadata": {
  "kernelspec": {
   "display_name": "Python 3",
   "language": "python",
   "name": "python3"
  },
  "language_info": {
   "codemirror_mode": {
    "name": "ipython",
    "version": 3
   },
   "file_extension": ".py",
   "mimetype": "text/x-python",
   "name": "python",
   "nbconvert_exporter": "python",
   "pygments_lexer": "ipython3",
   "version": "3.6.3"
  }
 },
 "nbformat": 4,
 "nbformat_minor": 2
}
