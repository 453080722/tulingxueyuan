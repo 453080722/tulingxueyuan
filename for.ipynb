{
 "cells": [
  {
   "cell_type": "code",
   "execution_count": 4,
   "metadata": {},
   "outputs": [
    {
     "name": "stdout",
     "output_type": "stream",
     "text": [
      "* * * * * \n",
      "* * * * * \n",
      "* * * * * \n",
      "* * * * * \n"
     ]
    }
   ],
   "source": [
    "# 简单图形打印\n",
    "'''\n",
    "* * * * *\n",
    "* * * * *\n",
    "* * * * *\n",
    "* * * * *\n",
    "'''\n",
    "\n",
    "# 利用双层for循环实现\n",
    "for i in range(4):\n",
    "    # 利用for循环打印一行星号\n",
    "    for k in range(5):\n",
    "        # print默认自动换行\n",
    "        # 可以通过end参数控制\n",
    "        print(\"* \",end = \"\")\n",
    "    print()\n"
   ]
  },
  {
   "cell_type": "code",
   "execution_count": 5,
   "metadata": {},
   "outputs": [
    {
     "name": "stdout",
     "output_type": "stream",
     "text": [
      "* * * * * \n",
      "* * * * * \n",
      "* * * * * \n",
      "* * * * * \n"
     ]
    }
   ],
   "source": [
    "# 利用一层for循环实现\n",
    "for i in range(4):\n",
    "    print(\"* \" * 5)"
   ]
  },
  {
   "cell_type": "code",
   "execution_count": 8,
   "metadata": {},
   "outputs": [
    {
     "name": "stdout",
     "output_type": "stream",
     "text": [
      "* * * * * \n",
      "*       * \n",
      "*       * \n",
      "* * * * * \n"
     ]
    }
   ],
   "source": [
    "# 简单图形打印2\n",
    "'''\n",
    "* * * * *\n",
    "*       *\n",
    "*       *\n",
    "* * * * *\n",
    "'''\n",
    "'''\n",
    "思路：\n",
    "1.正常利用for循环控制打印\n",
    "2.如果是第一行和最后一行，则完整打印\n",
    "3.否则，判断打印列，如果是第一列或者是最后一列，则打印星号，否则打印空格\n",
    "'''\n",
    "\n",
    "# 外层循环控制行\n",
    "for i in range(4):\n",
    "    if i == 0 or i == 3:\n",
    "        print(\"* \" * 5)\n",
    "    else:\n",
    "        print(\"* \", end = \"\")\n",
    "        print(\"  \" * 3, end = \"\")\n",
    "        print(\"* \")"
   ]
  },
  {
   "cell_type": "code",
   "execution_count": 15,
   "metadata": {},
   "outputs": [
    {
     "name": "stdout",
     "output_type": "stream",
     "text": [
      "* \n",
      "* * \n",
      "* * * \n",
      "* * * * \n",
      "* * * * * \n"
     ]
    }
   ],
   "source": [
    "# 简单图形打印3\n",
    "'''\n",
    "*\n",
    "* *\n",
    "* * *\n",
    "* * * *\n",
    "* * * * *\n",
    "'''\n",
    "\n",
    "# 逐次按行打印，这件基本是一样或者相似的，优先考虑循环\n",
    "for i in range(5):\n",
    "    # 打印一行\n",
    "    # 每一行打印几个星号，和行号有关\n",
    "    # 一行内打印不用换行，一行打印完毕换行\n",
    "    for k in range(i+1):\n",
    "        print(\"* \", end = \"\")\n",
    "    print()\n"
   ]
  },
  {
   "cell_type": "code",
   "execution_count": 21,
   "metadata": {},
   "outputs": [
    {
     "name": "stdout",
     "output_type": "stream",
     "text": [
      "*\n",
      "* *\n",
      "*   *\n",
      "*     *\n",
      "* * * * *\n"
     ]
    }
   ],
   "source": [
    "# 简单图形打印4\n",
    "'''\n",
    "*\n",
    "* *\n",
    "*   *\n",
    "*     *\n",
    "* * * * *\n",
    "'''\n",
    "\n",
    "#直接打印\n",
    "print('''*\n",
    "* *\n",
    "*   *\n",
    "*     *\n",
    "* * * * *''')"
   ]
  },
  {
   "cell_type": "code",
   "execution_count": 23,
   "metadata": {},
   "outputs": [
    {
     "name": "stdout",
     "output_type": "stream",
     "text": [
      "* \n",
      "* * \n",
      "*   * \n",
      "*     * \n",
      "* * * * * \n"
     ]
    }
   ],
   "source": [
    "for i in range(5):\n",
    "    # 打印一行\n",
    "    # 每一行打印几个星号，和行号有关\n",
    "    # 一行内打印不用换行，一行打印完毕换行\n",
    "    # 需要判断打印的是否是最后一行，如果是，则打印全部星号\n",
    "    # 否则，需要判断是否第一个和最后一个位置，如果是打印星号，否则空格\n",
    "    for k in range(i+1):\n",
    "        if i == 4:\n",
    "            print(\"* \", end = \"\")\n",
    "            continue\n",
    "            \n",
    "        # 如果不是最后一行\n",
    "        # k控制的是列的数字\n",
    "        if k == 0 or  k == i:\n",
    "            print(\"* \", end = \"\")\n",
    "        else:\n",
    "            print(\"  \", end = \"\")\n",
    "    print()\n"
   ]
  },
  {
   "cell_type": "code",
   "execution_count": null,
   "metadata": {
    "collapsed": true
   },
   "outputs": [],
   "source": [
    "# 打印倒立三角\n",
    "'''\n",
    "* * * * *\n",
    "* * * *\n",
    "* * * \n",
    "* * \n",
    "*\n",
    "'''"
   ]
  },
  {
   "cell_type": "code",
   "execution_count": 25,
   "metadata": {},
   "outputs": [
    {
     "name": "stdout",
     "output_type": "stream",
     "text": [
      "* * * * * \n",
      "* * * * \n",
      "* * * \n",
      "* * \n",
      "* \n"
     ]
    }
   ],
   "source": [
    "# i-for控制行号\n",
    "# j-for控制列号\n",
    "\n",
    "for i in range(5):\n",
    "    for j in range(5-i):\n",
    "        print(\"* \", end = \"\")\n",
    "    print()\n",
    "        "
   ]
  },
  {
   "cell_type": "code",
   "execution_count": 2,
   "metadata": {},
   "outputs": [
    {
     "name": "stdout",
     "output_type": "stream",
     "text": [
      "* * * * * \n",
      "*     * \n",
      "*   * \n",
      "* * \n",
      "* \n"
     ]
    }
   ],
   "source": [
    "for i in range(5):\n",
    "    # 打印一行\n",
    "    # 每一行打印几个星号，和行号有关\n",
    "    # 一行内打印不用换行，一行打印完毕换行\n",
    "    # 需要判断打印的是否是最后一行，如果是，则打印全部星号\n",
    "    # 否则，需要判断是否第一个和最后一个位置，如果是打印星号，否则空格\n",
    "    for j in range(5-i):\n",
    "        if i == 0:\n",
    "            print(\"* \", end = \"\")\n",
    "            continue\n",
    "            \n",
    "        # 如果不是最后一行\n",
    "        # j控制的是列的数字\n",
    "        if j == 0 or  j == 5-i-1:\n",
    "            print(\"* \", end = \"\")\n",
    "        else:\n",
    "            print(\"  \", end = \"\")\n",
    "    print()"
   ]
  },
  {
   "cell_type": "code",
   "execution_count": 32,
   "metadata": {},
   "outputs": [
    {
     "name": "stdout",
     "output_type": "stream",
     "text": [
      "      * \n",
      "     * * \n",
      "    * * * \n",
      "   * * * * \n",
      "  * * * * * \n",
      " * * * * * * \n",
      "            * \n",
      "          * * \n",
      "        * * * \n",
      "      * * * * \n",
      "    * * * * * \n",
      "  * * * * * * \n"
     ]
    }
   ],
   "source": [
    "'''\n",
    "    *\n",
    "   * *\n",
    "  * * *\n",
    " * * * *\n",
    "* * * * *\n",
    "'''\n",
    "\n",
    "for i in range(6):\n",
    "    # 总体思路是，先打印一行空格，代表每一行星星前的空格\n",
    "    # 在不换行，打印星号\n",
    "    for j in range(6-i):\n",
    "        print(\" \", end = \"\")\n",
    "        \n",
    "    for m in range(i+1):\n",
    "        print(\"* \", end = \"\")\n",
    "        \n",
    "    #打印完一行后换行\n",
    "    print()\n",
    "    \n",
    "for i in range(6):\n",
    "    # 总体思路是，先打印一行空格，代表每一行星星前的空格\n",
    "    # 在不换行，打印星号\n",
    "    for j in range(6-i):\n",
    "        print(\"  \", end = \"\")\n",
    "        \n",
    "    for m in range(i+1):\n",
    "        print(\"* \", end = \"\")\n",
    "        \n",
    "    #打印完一行后换行\n",
    "    print()"
   ]
  },
  {
   "cell_type": "code",
   "execution_count": null,
   "metadata": {
    "collapsed": true
   },
   "outputs": [],
   "source": []
  }
 ],
 "metadata": {
  "kernelspec": {
   "display_name": "Python 3",
   "language": "python",
   "name": "python3"
  },
  "language_info": {
   "codemirror_mode": {
    "name": "ipython",
    "version": 3
   },
   "file_extension": ".py",
   "mimetype": "text/x-python",
   "name": "python",
   "nbconvert_exporter": "python",
   "pygments_lexer": "ipython3",
   "version": "3.6.3"
  }
 },
 "nbformat": 4,
 "nbformat_minor": 2
}
