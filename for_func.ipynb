{
 "cells": [
  {
   "cell_type": "code",
   "execution_count": 5,
   "metadata": {},
   "outputs": [
    {
     "name": "stdout",
     "output_type": "stream",
     "text": [
      "* * * * * \n",
      "* * * * * \n",
      "* * * * * \n",
      "* * * * * \n",
      "====================\n",
      "* * * * * \n",
      "*       * \n",
      "*       * \n",
      "* * * * * \n"
     ]
    }
   ],
   "source": [
    "#　打印出一个矩形\n",
    "#　控制行\n",
    "for i in range(1,5):\n",
    "    # 控制列\n",
    "    for j in range(1,6):\n",
    "        print('*', end = ' ')\n",
    "    # 当第ｉ行的５列输出完后进行换行\n",
    "    print()\n",
    "    \n",
    "# 分割一下输出，用的是字符串乘法\n",
    "print('=' * 20)\n",
    "\n",
    "#　打印出空心矩形\n",
    "for i in range(1,5):\n",
    "    for j in range(1,6):\n",
    "        if i == 1 or i == 4 or j == 1 or j ==5:\n",
    "            print('*', end = ' ')\n",
    "        else:\n",
    "            print(' ', end = ' ')\n",
    "    print()"
   ]
  },
  {
   "cell_type": "code",
   "execution_count": 11,
   "metadata": {},
   "outputs": [
    {
     "name": "stdout",
     "output_type": "stream",
     "text": [
      "* \n",
      "* * \n",
      "*   * \n",
      "*     * \n",
      "* * * * * \n"
     ]
    }
   ],
   "source": [
    "# 打印空心三角形\n",
    "for i in range(1,6):\n",
    "    for j in range(6-i,6):\n",
    "        if i == 5 or j == 5 or j== 6-i:\n",
    "            print('*', end = ' ')\n",
    "        else:\n",
    "            print(' ', end = ' ')\n",
    "    print()"
   ]
  },
  {
   "cell_type": "code",
   "execution_count": 13,
   "metadata": {},
   "outputs": [
    {
     "name": "stdout",
     "output_type": "stream",
     "text": [
      "    * \n",
      "   * * \n",
      "  * * * \n",
      " * * * * \n",
      "* * * * * \n"
     ]
    }
   ],
   "source": [
    "# 打印正三角形\n",
    "# 控制行\n",
    "for i in range(1,6):\n",
    "    #　更改打印起始位置\n",
    "    for k in range(1, 6-i):\n",
    "        print(end = ' ')\n",
    "    # 控制列\n",
    "    for i in range(6-i, 6):\n",
    "        print('*', end = ' ')\n",
    "    print()"
   ]
  },
  {
   "cell_type": "code",
   "execution_count": 22,
   "metadata": {},
   "outputs": [
    {
     "name": "stdout",
     "output_type": "stream",
     "text": [
      "    * \n",
      "   * * \n",
      "  * * * \n",
      " * * * * \n",
      "* * * * * \n",
      " * * * * \n",
      "  * * * \n",
      "   * * \n",
      "    * \n",
      "     \n"
     ]
    }
   ],
   "source": [
    "# 打印菱形\n",
    "for i in range(1,6):\n",
    "    for k in range(1, 6-i):\n",
    "        print(end = ' ')\n",
    "    for j in range(6-i, 6):\n",
    "        print('*', end = ' ')\n",
    "    print()\n",
    "    \n",
    "for i in range(1,6):\n",
    "    for k in range(i):\n",
    "        print(end = ' ')\n",
    "    for j in range(6-i-1):\n",
    "        print('*', end = ' ')\n",
    "    print()"
   ]
  },
  {
   "cell_type": "code",
   "execution_count": 57,
   "metadata": {},
   "outputs": [
    {
     "name": "stdout",
     "output_type": "stream",
     "text": [
      "    * \n",
      "   * * \n",
      "  *   * \n",
      " *     * \n",
      "*       * \n",
      " *     * \n",
      "  *   * \n",
      "   * * \n",
      "    * \n"
     ]
    }
   ],
   "source": [
    "# 打印空心菱形\n",
    "for i in range(1,6):\n",
    "    for k in range(1, 6-i):\n",
    "        print(end = ' ')\n",
    "    for j in range(6-i, 6):\n",
    "        if j == 6-i or j == 5:\n",
    "            print('*', end = ' ')\n",
    "        else:\n",
    "            print(' ', end = ' ')\n",
    "    print()\n",
    "\n",
    "for i in range(1,5):\n",
    "    for k in range(i):\n",
    "        print(end = ' ')\n",
    "    for j in range(5-i):\n",
    "        if j == 5-i-1 or j == 0:\n",
    "            print('*', end = ' ')\n",
    "        else:\n",
    "            print(' ', end = ' ')\n",
    "    print()"
   ]
  },
  {
   "cell_type": "code",
   "execution_count": null,
   "metadata": {
    "collapsed": true
   },
   "outputs": [],
   "source": []
  }
 ],
 "metadata": {
  "kernelspec": {
   "display_name": "Python 3",
   "language": "python",
   "name": "python3"
  },
  "language_info": {
   "codemirror_mode": {
    "name": "ipython",
    "version": 3
   },
   "file_extension": ".py",
   "mimetype": "text/x-python",
   "name": "python",
   "nbconvert_exporter": "python",
   "pygments_lexer": "ipython3",
   "version": "3.6.3"
  }
 },
 "nbformat": 4,
 "nbformat_minor": 2
}
